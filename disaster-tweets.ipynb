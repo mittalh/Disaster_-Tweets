{
 "cells": [
  {
   "cell_type": "code",
   "execution_count": 1,
   "metadata": {
    "_cell_guid": "b1076dfc-b9ad-4769-8c92-a6c4dae69d19",
    "_uuid": "8f2839f25d086af736a60e9eeb907d3b93b6e0e5"
   },
   "outputs": [],
   "source": [
    "# This Python 3 environment comes with many helpful analytics libraries installed\n",
    "# It is defined by the kaggle/python docker image: https://github.com/kaggle/docker-python\n",
    "# For example, here's several helpful packages to load in \n",
    "\n",
    "import numpy as np # linear algebra\n",
    "import pandas as pd # data processing, CSV file I/O (e.g. pd.read_csv)\n",
    "\n",
    "# Input data files are available in the \"../input/\" directory.\n",
    "# For example, running this (by clicking run or pressing Shift+Enter) will list all files under the input directory\n",
    "\n",
    "import os\n",
    "\n",
    "# Any results you write to the current directory are saved as output."
   ]
  },
  {
   "cell_type": "code",
   "execution_count": 2,
   "metadata": {
    "_cell_guid": "79c7e3d0-c299-4dcb-8224-4455121ee9b0",
    "_uuid": "d629ff2d2480ee46fbb7e2d37f6b5fab8052498a"
   },
   "outputs": [],
   "source": [
    "train=pd.read_csv(\"../input/nlp-getting-started/train.csv\")\n",
    "test=pd.read_csv(\"../input/nlp-getting-started/test.csv\")\n"
   ]
  },
  {
   "cell_type": "code",
   "execution_count": 3,
   "metadata": {},
   "outputs": [
    {
     "data": {
      "text/html": [
       "<div>\n",
       "<style scoped>\n",
       "    .dataframe tbody tr th:only-of-type {\n",
       "        vertical-align: middle;\n",
       "    }\n",
       "\n",
       "    .dataframe tbody tr th {\n",
       "        vertical-align: top;\n",
       "    }\n",
       "\n",
       "    .dataframe thead th {\n",
       "        text-align: right;\n",
       "    }\n",
       "</style>\n",
       "<table border=\"1\" class=\"dataframe\">\n",
       "  <thead>\n",
       "    <tr style=\"text-align: right;\">\n",
       "      <th></th>\n",
       "      <th>id</th>\n",
       "      <th>keyword</th>\n",
       "      <th>location</th>\n",
       "      <th>text</th>\n",
       "      <th>target</th>\n",
       "    </tr>\n",
       "  </thead>\n",
       "  <tbody>\n",
       "    <tr>\n",
       "      <th>0</th>\n",
       "      <td>1</td>\n",
       "      <td>NaN</td>\n",
       "      <td>NaN</td>\n",
       "      <td>Our Deeds are the Reason of this #earthquake M...</td>\n",
       "      <td>1</td>\n",
       "    </tr>\n",
       "    <tr>\n",
       "      <th>1</th>\n",
       "      <td>4</td>\n",
       "      <td>NaN</td>\n",
       "      <td>NaN</td>\n",
       "      <td>Forest fire near La Ronge Sask. Canada</td>\n",
       "      <td>1</td>\n",
       "    </tr>\n",
       "    <tr>\n",
       "      <th>2</th>\n",
       "      <td>5</td>\n",
       "      <td>NaN</td>\n",
       "      <td>NaN</td>\n",
       "      <td>All residents asked to 'shelter in place' are ...</td>\n",
       "      <td>1</td>\n",
       "    </tr>\n",
       "    <tr>\n",
       "      <th>3</th>\n",
       "      <td>6</td>\n",
       "      <td>NaN</td>\n",
       "      <td>NaN</td>\n",
       "      <td>13,000 people receive #wildfires evacuation or...</td>\n",
       "      <td>1</td>\n",
       "    </tr>\n",
       "    <tr>\n",
       "      <th>4</th>\n",
       "      <td>7</td>\n",
       "      <td>NaN</td>\n",
       "      <td>NaN</td>\n",
       "      <td>Just got sent this photo from Ruby #Alaska as ...</td>\n",
       "      <td>1</td>\n",
       "    </tr>\n",
       "  </tbody>\n",
       "</table>\n",
       "</div>"
      ],
      "text/plain": [
       "   id keyword location                                               text  \\\n",
       "0   1     NaN      NaN  Our Deeds are the Reason of this #earthquake M...   \n",
       "1   4     NaN      NaN             Forest fire near La Ronge Sask. Canada   \n",
       "2   5     NaN      NaN  All residents asked to 'shelter in place' are ...   \n",
       "3   6     NaN      NaN  13,000 people receive #wildfires evacuation or...   \n",
       "4   7     NaN      NaN  Just got sent this photo from Ruby #Alaska as ...   \n",
       "\n",
       "   target  \n",
       "0       1  \n",
       "1       1  \n",
       "2       1  \n",
       "3       1  \n",
       "4       1  "
      ]
     },
     "execution_count": 3,
     "metadata": {},
     "output_type": "execute_result"
    }
   ],
   "source": [
    "train.head()"
   ]
  },
  {
   "cell_type": "code",
   "execution_count": 4,
   "metadata": {},
   "outputs": [
    {
     "data": {
      "text/html": [
       "<div>\n",
       "<style scoped>\n",
       "    .dataframe tbody tr th:only-of-type {\n",
       "        vertical-align: middle;\n",
       "    }\n",
       "\n",
       "    .dataframe tbody tr th {\n",
       "        vertical-align: top;\n",
       "    }\n",
       "\n",
       "    .dataframe thead th {\n",
       "        text-align: right;\n",
       "    }\n",
       "</style>\n",
       "<table border=\"1\" class=\"dataframe\">\n",
       "  <thead>\n",
       "    <tr style=\"text-align: right;\">\n",
       "      <th></th>\n",
       "      <th>id</th>\n",
       "      <th>keyword</th>\n",
       "      <th>location</th>\n",
       "      <th>text</th>\n",
       "    </tr>\n",
       "  </thead>\n",
       "  <tbody>\n",
       "    <tr>\n",
       "      <th>0</th>\n",
       "      <td>0</td>\n",
       "      <td>NaN</td>\n",
       "      <td>NaN</td>\n",
       "      <td>Just happened a terrible car crash</td>\n",
       "    </tr>\n",
       "    <tr>\n",
       "      <th>1</th>\n",
       "      <td>2</td>\n",
       "      <td>NaN</td>\n",
       "      <td>NaN</td>\n",
       "      <td>Heard about #earthquake is different cities, s...</td>\n",
       "    </tr>\n",
       "    <tr>\n",
       "      <th>2</th>\n",
       "      <td>3</td>\n",
       "      <td>NaN</td>\n",
       "      <td>NaN</td>\n",
       "      <td>there is a forest fire at spot pond, geese are...</td>\n",
       "    </tr>\n",
       "    <tr>\n",
       "      <th>3</th>\n",
       "      <td>9</td>\n",
       "      <td>NaN</td>\n",
       "      <td>NaN</td>\n",
       "      <td>Apocalypse lighting. #Spokane #wildfires</td>\n",
       "    </tr>\n",
       "    <tr>\n",
       "      <th>4</th>\n",
       "      <td>11</td>\n",
       "      <td>NaN</td>\n",
       "      <td>NaN</td>\n",
       "      <td>Typhoon Soudelor kills 28 in China and Taiwan</td>\n",
       "    </tr>\n",
       "  </tbody>\n",
       "</table>\n",
       "</div>"
      ],
      "text/plain": [
       "   id keyword location                                               text\n",
       "0   0     NaN      NaN                 Just happened a terrible car crash\n",
       "1   2     NaN      NaN  Heard about #earthquake is different cities, s...\n",
       "2   3     NaN      NaN  there is a forest fire at spot pond, geese are...\n",
       "3   9     NaN      NaN           Apocalypse lighting. #Spokane #wildfires\n",
       "4  11     NaN      NaN      Typhoon Soudelor kills 28 in China and Taiwan"
      ]
     },
     "execution_count": 4,
     "metadata": {},
     "output_type": "execute_result"
    }
   ],
   "source": [
    "test.head()"
   ]
  },
  {
   "cell_type": "code",
   "execution_count": 5,
   "metadata": {},
   "outputs": [
    {
     "name": "stdout",
     "output_type": "stream",
     "text": [
      "<class 'pandas.core.frame.DataFrame'>\n",
      "RangeIndex: 7613 entries, 0 to 7612\n",
      "Data columns (total 5 columns):\n",
      "id          7613 non-null int64\n",
      "keyword     7552 non-null object\n",
      "location    5080 non-null object\n",
      "text        7613 non-null object\n",
      "target      7613 non-null int64\n",
      "dtypes: int64(2), object(3)\n",
      "memory usage: 297.5+ KB\n"
     ]
    }
   ],
   "source": [
    "train.info()"
   ]
  },
  {
   "cell_type": "code",
   "execution_count": 6,
   "metadata": {},
   "outputs": [
    {
     "name": "stdout",
     "output_type": "stream",
     "text": [
      "<class 'pandas.core.frame.DataFrame'>\n",
      "RangeIndex: 3263 entries, 0 to 3262\n",
      "Data columns (total 4 columns):\n",
      "id          3263 non-null int64\n",
      "keyword     3237 non-null object\n",
      "location    2158 non-null object\n",
      "text        3263 non-null object\n",
      "dtypes: int64(1), object(3)\n",
      "memory usage: 102.1+ KB\n"
     ]
    }
   ],
   "source": [
    "test.info()"
   ]
  },
  {
   "cell_type": "code",
   "execution_count": 7,
   "metadata": {},
   "outputs": [],
   "source": [
    "train_text=[]\n",
    "train_labels=[]\n",
    "for i in range(len(train[['text']])):\n",
    "               train_text.append(str(train.iloc[i,3]))\n",
    "               train_labels.append(train.iloc[i,4])\n",
    "test_text=[]\n",
    "\n",
    "for i in range(len(test[['text']])):\n",
    "               test_text.append(str(test.iloc[i,3]))\n",
    "               \n"
   ]
  },
  {
   "cell_type": "code",
   "execution_count": 8,
   "metadata": {},
   "outputs": [
    {
     "data": {
      "text/plain": [
       "<matplotlib.legend.Legend at 0x7f87f1ae7a90>"
      ]
     },
     "execution_count": 8,
     "metadata": {},
     "output_type": "execute_result"
    },
    {
     "data": {
      "image/png": "[encoded data removed]",
      "text/plain": [
       "<Figure size 432x288 with 1 Axes>"
      ]
     },
     "metadata": {
      "needs_background": "light"
     },
     "output_type": "display_data"
    }
   ],
   "source": [
    "# Text Length(No of Words)\n",
    "length_train=[]\n",
    "for i in range(len(train[['text']])):\n",
    "    length_train.append(len(train_text[i].split()))\n",
    "import seaborn as sns\n",
    "import matplotlib.pyplot as plt\n",
    "sns.distplot(length_train)\n",
    "length_test=[]\n",
    "for i in range(len(test[['text']])):\n",
    "    length_test.append(len(test_text[i].split()))\n",
    "\n",
    "sns.distplot(length_test)\n",
    "plt.legend(['train','test'])"
   ]
  },
  {
   "cell_type": "code",
   "execution_count": 9,
   "metadata": {},
   "outputs": [],
   "source": [
    "from tensorflow.keras.preprocessing.text import Tokenizer\n",
    "from tensorflow.keras.preprocessing.sequence import pad_sequences\n",
    "# Lets Tokenize the Strings using Tokenizer function and Pad using pad_sequences\n",
    "tokenizer=Tokenizer(num_words=1000,oov_token=\"<oov_tok>\")\n",
    "tokenizer.fit_on_texts(train_text)\n",
    "word_index=tokenizer.word_index\n",
    "train_sequences=tokenizer.texts_to_sequences(train_text)\n",
    "train_padded=pad_sequences(train_sequences,maxlen=15,truncating=\"post\")\n",
    "test_sequences=tokenizer.texts_to_sequences(test_text)\n",
    "test_padded=pad_sequences(test_sequences,maxlen=15,truncating=\"post\")"
   ]
  },
  {
   "cell_type": "code",
   "execution_count": 10,
   "metadata": {},
   "outputs": [
    {
     "name": "stdout",
     "output_type": "stream",
     "text": [
      "X_train_shape :(7536, 15)\n",
      "y_train_shape:7536\n",
      "X_test_shape :(53, 15)\n",
      "y_test_shape: 53\n",
      "X_validation_shape :(24, 15)\n",
      "y_validation_shape: 24\n"
     ]
    }
   ],
   "source": [
    "from sklearn.model_selection import train_test_split\n",
    "X_train,X_test_,y_train,y_test_=train_test_split(train_padded,train_labels,test_size=0.01,random_state=121)\n",
    "X_test,X_validation,y_test,y_validation=train_test_split(X_test_,y_test_,test_size=0.3,random_state=121)\n",
    "print(\"X_train_shape :\"+str(X_train.shape))\n",
    "print('y_train_shape:' +str(len(y_train)))\n",
    "print(\"X_test_shape :\"+str(X_test.shape))\n",
    "print('y_test_shape: ' +str(len(y_test)) )\n",
    "print(\"X_validation_shape :\"+str(X_validation.shape))\n",
    "print('y_validation_shape: ' +str(len(y_validation)) )"
   ]
  },
  {
   "cell_type": "code",
   "execution_count": 11,
   "metadata": {},
   "outputs": [
    {
     "name": "stderr",
     "output_type": "stream",
     "text": [
      "Using TensorFlow backend.\n"
     ]
    }
   ],
   "source": [
    "from keras.utils import to_categorical\n",
    "y_train0 = to_categorical(y_train)\n",
    "y_test0= to_categorical(y_test)\n",
    "y_validation0=to_categorical(y_validation)"
   ]
  },
  {
   "cell_type": "code",
   "execution_count": 12,
   "metadata": {},
   "outputs": [
    {
     "name": "stdout",
     "output_type": "stream",
     "text": [
      "Train on 7536 samples, validate on 53 samples\n",
      "Epoch 1/10\n",
      "7536/7536 - 8s - loss: 0.5146 - accuracy: 0.7398 - val_loss: 0.4902 - val_accuracy: 0.7925\n",
      "Epoch 2/10\n",
      "cancelling since validation accuracy has been reached to 84%\n",
      "7536/7536 - 3s - loss: 0.4261 - accuracy: 0.8112 - val_loss: 0.3521 - val_accuracy: 0.8679\n"
     ]
    },
    {
     "data": {
      "text/plain": [
       "<matplotlib.legend.Legend at 0x7f878f7e4e48>"
      ]
     },
     "execution_count": 12,
     "metadata": {},
     "output_type": "execute_result"
    },
    {
     "data": {
      "image/png": "[encoded data removed]",
      "text/plain": [
       "<Figure size 432x288 with 2 Axes>"
      ]
     },
     "metadata": {
      "needs_background": "light"
     },
     "output_type": "display_data"
    }
   ],
   "source": [
    "import tensorflow as tf\n",
    "class myCallback(tf.keras.callbacks.Callback):\n",
    "    def on_epoch_end(self,epoch,logs={}):\n",
    "        if(logs.get('val_accuracy')>0.840):\n",
    "            print('cancelling since validation accuracy has been reached to 84%')\n",
    "            self.model.stop_training=True\n",
    "callbacks_3=myCallback() \n",
    "import tensorflow as tf\n",
    "import keras\n",
    "model=tf.keras.Sequential([ tf.keras.layers.Embedding(1000,128,input_length=(15)),\n",
    "                                  tf.keras.layers.Bidirectional(tf.keras.layers.LSTM(32)),\n",
    "                                 tf.keras.layers.Dense(64),\n",
    "                                  tf.keras.layers.Dense(32),\n",
    "                                  tf.keras.layers.Dense(6,activation='relu'),\n",
    "                                  tf.keras.layers.Dense(2,activation='softmax')\n",
    "                                ])\n",
    "model.compile(loss='categorical_crossentropy',optimizer='RMSProp',metrics=['accuracy'])\n",
    "history=model.fit(X_train,y_train0,epochs=10,validation_data=(X_test,y_test0),verbose=2,callbacks=[callbacks_3])\n",
    "import matplotlib.pyplot as plt\n",
    "plt.subplot(1,2,1)\n",
    "plt.plot(history.history['accuracy'])\n",
    "plt.plot(history.history['val_accuracy'])\n",
    "plt.legend(['train','validation'])\n",
    "plt.subplot(1,2,2)\n",
    "plt.plot(history.history['loss'])\n",
    "plt.plot(history.history['val_loss'])\n",
    "plt.legend(['train','validation'])"
   ]
  },
  {
   "cell_type": "code",
   "execution_count": 13,
   "metadata": {},
   "outputs": [
    {
     "name": "stdout",
     "output_type": "stream",
     "text": [
      "y_pred_train_shape: 7536\n",
      "y_pred_test_shape: 53\n",
      "y_test_shape: 53\n",
      "y_pred_validation_shape: 24\n"
     ]
    }
   ],
   "source": [
    "y_pred_train=model.predict(X_train)\n",
    "y_pred_test=model.predict(X_test)\n",
    "y_pred_validation=model.predict(X_validation)\n",
    "y_pred_train=np.argmax(y_pred_train,axis=1)\n",
    "y_pred_test=np.argmax(y_pred_test,axis=1)\n",
    "y_pred_validation=np.argmax(y_pred_validation,axis=1)\n",
    "print(\"y_pred_train_shape: \"+str(len(y_pred_train)))\n",
    "print(\"y_pred_test_shape: \"+str(len(y_pred_test)))\n",
    "print('y_test_shape: '+str(len(y_test)))\n",
    "print(\"y_pred_validation_shape: \"+str(len(y_pred_validation)))"
   ]
  },
  {
   "cell_type": "code",
   "execution_count": 14,
   "metadata": {},
   "outputs": [
    {
     "name": "stdout",
     "output_type": "stream",
     "text": [
      "f1_score on train: 0.7838815223006715\n",
      "f1_score on test: 0.8292682926829269\n",
      "f1_score on test: 0.7058823529411764\n"
     ]
    },
    {
     "data": {
      "image/png": "[encoded data removed]",
      "text/plain": [
       "<Figure size 288x288 with 2 Axes>"
      ]
     },
     "metadata": {
      "needs_background": "light"
     },
     "output_type": "display_data"
    },
    {
     "data": {
      "image/png": "[encoded data removed]",
      "text/plain": [
       "<Figure size 288x288 with 2 Axes>"
      ]
     },
     "metadata": {
      "needs_background": "light"
     },
     "output_type": "display_data"
    },
    {
     "data": {
      "image/png": "[encoded data removed]",
      "text/plain": [
       "<Figure size 288x288 with 2 Axes>"
      ]
     },
     "metadata": {
      "needs_background": "light"
     },
     "output_type": "display_data"
    }
   ],
   "source": [
    "import scikitplot as skplt\n",
    "skplt.metrics.plot_confusion_matrix(y_train,y_pred_train,figsize=(4,4))\n",
    "skplt.metrics.plot_confusion_matrix(y_test,y_pred_test,figsize=(4,4))\n",
    "skplt.metrics.plot_confusion_matrix(y_validation,y_pred_validation,figsize=(4,4))\n",
    "from sklearn.metrics import f1_score\n",
    "print(\"f1_score on train: \"+str(f1_score(y_train,y_pred_train)))\n",
    "print(\"f1_score on test: \"+str(f1_score(y_test,y_pred_test)))\n",
    "print(\"f1_score on test: \"+str(f1_score(y_validation,y_pred_validation)))"
   ]
  },
  {
   "cell_type": "code",
   "execution_count": 15,
   "metadata": {},
   "outputs": [
    {
     "name": "stdout",
     "output_type": "stream",
     "text": [
      "[1 1 1 ... 1 1 0]\n"
     ]
    }
   ],
   "source": [
    "y_test=model.predict(test_padded)\n",
    "y_test=np.argmax(y_test,axis=1)\n",
    "print(y_test)"
   ]
  },
  {
   "cell_type": "code",
   "execution_count": 16,
   "metadata": {},
   "outputs": [
    {
     "name": "stdout",
     "output_type": "stream",
     "text": [
      "   id  target\n",
      "0   0       0\n",
      "1   2       0\n",
      "2   3       0\n",
      "3   9       0\n",
      "4  11       0\n"
     ]
    }
   ],
   "source": [
    "sub=pd.read_csv('../input/nlp-getting-started/sample_submission.csv')\n",
    "print(sub.head())"
   ]
  },
  {
   "cell_type": "code",
   "execution_count": 17,
   "metadata": {},
   "outputs": [],
   "source": [
    "y_test=pd.DataFrame(y_test)\n",
    "result=pd.concat([sub,y_test],axis=1)\n",
    "result.drop(['target'],axis=1,inplace=True)\n",
    "result.columns=['id','target']\n",
    "result.head()\n",
    "result.to_csv(\"Sub2.csv\",index=False)"
   ]
  },
  {
   "cell_type": "code",
   "execution_count": 18,
   "metadata": {},
   "outputs": [
    {
     "name": "stdout",
     "output_type": "stream",
     "text": [
      "X_train_shape :(7536, 25)\n",
      "y_train_shape:7536\n",
      "X_test_shape :(53, 25)\n",
      "y_test_shape: 53\n",
      "X_validation_shape :(24, 25)\n",
      "y_validation_shape: 24\n",
      "Train on 7536 samples, validate on 53 samples\n",
      "Epoch 1/10\n",
      "7536/7536 - 9s - loss: 0.5312 - accuracy: 0.7314 - val_loss: 0.4106 - val_accuracy: 0.8302\n",
      "Epoch 2/10\n",
      "7536/7536 - 5s - loss: 0.4295 - accuracy: 0.8102 - val_loss: 0.4045 - val_accuracy: 0.7736\n",
      "Epoch 3/10\n",
      "cancelling since validation accuracy has been reached to 84%\n",
      "7536/7536 - 5s - loss: 0.4013 - accuracy: 0.8238 - val_loss: 0.3658 - val_accuracy: 0.8491\n"
     ]
    },
    {
     "data": {
      "text/plain": [
       "<matplotlib.legend.Legend at 0x7f878e7f65c0>"
      ]
     },
     "execution_count": 18,
     "metadata": {},
     "output_type": "execute_result"
    },
    {
     "data": {
      "image/png": "[encoded data removed]",
      "text/plain": [
       "<Figure size 432x288 with 2 Axes>"
      ]
     },
     "metadata": {
      "needs_background": "light"
     },
     "output_type": "display_data"
    }
   ],
   "source": [
    "\n",
    "from tensorflow.keras.preprocessing.text import Tokenizer\n",
    "from tensorflow.keras.preprocessing.sequence import pad_sequences\n",
    "# Lets Tokenize the Strings using Tokenizer function and Pad using pad_sequences\n",
    "tokenizer=Tokenizer(num_words=1000,oov_token=\"<oov_tok>\")\n",
    "tokenizer.fit_on_texts(train_text)\n",
    "word_index=tokenizer.word_index\n",
    "train_sequences=tokenizer.texts_to_sequences(train_text)\n",
    "train_padded=pad_sequences(train_sequences,maxlen=25,truncating=\"post\")\n",
    "test_sequences=tokenizer.texts_to_sequences(test_text)\n",
    "test_padded=pad_sequences(test_sequences,maxlen=25,truncating=\"post\")\n",
    "\n",
    "from sklearn.model_selection import train_test_split\n",
    "X_train,X_test_,y_train,y_test_=train_test_split(train_padded,train_labels,test_size=0.01,random_state=121)\n",
    "X_test,X_validation,y_test,y_validation=train_test_split(X_test_,y_test_,test_size=0.3,random_state=121)\n",
    "print(\"X_train_shape :\"+str(X_train.shape))\n",
    "print('y_train_shape:' +str(len(y_train)))\n",
    "print(\"X_test_shape :\"+str(X_test.shape))\n",
    "print('y_test_shape: ' +str(len(y_test)) )\n",
    "print(\"X_validation_shape :\"+str(X_validation.shape))\n",
    "print('y_validation_shape: ' +str(len(y_validation)) )\n",
    "\n",
    "from keras.utils import to_categorical\n",
    "y_train0 = to_categorical(y_train)\n",
    "y_test0= to_categorical(y_test)\n",
    "y_validation0=to_categorical(y_validation)\n",
    "import tensorflow as tf\n",
    "class myCallback(tf.keras.callbacks.Callback):\n",
    "    def on_epoch_end(self,epoch,logs={}):\n",
    "        if(logs.get('val_accuracy')>0.840):\n",
    "            print('cancelling since validation accuracy has been reached to 84%')\n",
    "            self.model.stop_training=True\n",
    "callbacks_3=myCallback() \n",
    "import tensorflow as tf\n",
    "import keras\n",
    "model=tf.keras.Sequential([ tf.keras.layers.Embedding(1000,128,input_length=(25)),\n",
    "                                  tf.keras.layers.Bidirectional(tf.keras.layers.LSTM(32)),\n",
    "                                 tf.keras.layers.Dense(64),\n",
    "                                  tf.keras.layers.Dense(32),\n",
    "                                  tf.keras.layers.Dense(6,activation='relu'),\n",
    "                                  tf.keras.layers.Dense(2,activation='softmax')\n",
    "                                ])\n",
    "model.compile(loss='categorical_crossentropy',optimizer='RMSProp',metrics=['accuracy'])\n",
    "history=model.fit(X_train,y_train0,epochs=10,validation_data=(X_test,y_test0),verbose=2,callbacks=[callbacks_3])\n",
    "import matplotlib.pyplot as plt\n",
    "plt.subplot(1,2,1)\n",
    "plt.plot(history.history['accuracy'])\n",
    "plt.plot(history.history['val_accuracy'])\n",
    "plt.legend(['train','validation'])\n",
    "plt.subplot(1,2,2)\n",
    "plt.plot(history.history['loss'])\n",
    "plt.plot(history.history['val_loss'])\n",
    "plt.legend(['train','validation'])"
   ]
  },
  {
   "cell_type": "code",
   "execution_count": 19,
   "metadata": {},
   "outputs": [
    {
     "name": "stdout",
     "output_type": "stream",
     "text": [
      "y_pred_train_shape: 7536\n",
      "y_pred_test_shape: 53\n",
      "y_test_shape: 53\n",
      "y_pred_validation_shape: 24\n",
      "f1_score on train: 0.7966015293118097\n",
      "f1_score on test: 0.8181818181818182\n",
      "f1_score on test: 0.8000000000000002\n"
     ]
    },
    {
     "data": {
      "image/png": "[encoded data removed]",
      "text/plain": [
       "<Figure size 288x288 with 2 Axes>"
      ]
     },
     "metadata": {
      "needs_background": "light"
     },
     "output_type": "display_data"
    },
    {
     "data": {
      "image/png": "[encoded data removed]",
      "text/plain": [
       "<Figure size 288x288 with 2 Axes>"
      ]
     },
     "metadata": {
      "needs_background": "light"
     },
     "output_type": "display_data"
    },
    {
     "data": {
      "image/png": "[encoded data removed]",
      "text/plain": [
       "<Figure size 288x288 with 2 Axes>"
      ]
     },
     "metadata": {
      "needs_background": "light"
     },
     "output_type": "display_data"
    }
   ],
   "source": [
    "y_pred_train=model.predict(X_train)\n",
    "y_pred_test=model.predict(X_test)\n",
    "y_pred_validation=model.predict(X_validation)\n",
    "y_pred_train=np.argmax(y_pred_train,axis=1)\n",
    "y_pred_test=np.argmax(y_pred_test,axis=1)\n",
    "y_pred_validation=np.argmax(y_pred_validation,axis=1)\n",
    "print(\"y_pred_train_shape: \"+str(len(y_pred_train)))\n",
    "print(\"y_pred_test_shape: \"+str(len(y_pred_test)))\n",
    "print('y_test_shape: '+str(len(y_test)))\n",
    "print(\"y_pred_validation_shape: \"+str(len(y_pred_validation)))\n",
    "\n",
    "import scikitplot as skplt\n",
    "skplt.metrics.plot_confusion_matrix(y_train,y_pred_train,figsize=(4,4))\n",
    "skplt.metrics.plot_confusion_matrix(y_test,y_pred_test,figsize=(4,4))\n",
    "skplt.metrics.plot_confusion_matrix(y_validation,y_pred_validation,figsize=(4,4))\n",
    "from sklearn.metrics import f1_score\n",
    "print(\"f1_score on train: \"+str(f1_score(y_train,y_pred_train)))\n",
    "print(\"f1_score on test: \"+str(f1_score(y_test,y_pred_test)))\n",
    "print(\"f1_score on test: \"+str(f1_score(y_validation,y_pred_validation)))\n",
    "\n"
   ]
  },
  {
   "cell_type": "code",
   "execution_count": 20,
   "metadata": {},
   "outputs": [
    {
     "name": "stdout",
     "output_type": "stream",
     "text": [
      "[1 1 1 ... 1 1 0]\n"
     ]
    }
   ],
   "source": [
    "y_test=model.predict(test_padded)\n",
    "y_test=np.argmax(y_test,axis=1)\n",
    "print(y_test)\n",
    "sub=pd.read_csv('../input/nlp-getting-started/sample_submission.csv')\n",
    "y_test=pd.DataFrame(y_test)\n",
    "result=pd.concat([sub,y_test],axis=1)\n",
    "result.drop(['target'],axis=1,inplace=True)\n",
    "result.columns=['id','target']\n",
    "result.head()\n",
    "result.to_csv(\"Sub3.csv\",index=False)"
   ]
  }
 ],
 "metadata": {
  "kernelspec": {
   "display_name": "Python 3",
   "language": "python",
   "name": "python3"
  },
  "language_info": {
   "codemirror_mode": {
    "name": "ipython",
    "version": 3
   },
   "file_extension": ".py",
   "mimetype": "text/x-python",
   "name": "python",
   "nbconvert_exporter": "python",
   "pygments_lexer": "ipython3",
   "version": "3.6.6"
  }
 },
 "nbformat": 4,
 "nbformat_minor": 1
}
